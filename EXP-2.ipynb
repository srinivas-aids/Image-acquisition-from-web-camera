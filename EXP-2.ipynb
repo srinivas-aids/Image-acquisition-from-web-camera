{
 "cells": [
  {
   "cell_type": "code",
   "execution_count": null,
   "id": "f776ec82",
   "metadata": {},
   "outputs": [],
   "source": [
    "\n",
    "import cv2\n",
    "import numpy as np\n",
    "obj = cv2.VideoCapture(0)\n",
    "while(True):\n",
    "    cap,frame = obj.read()\n",
    "    cv2.imshow('video_image.jpg',frame)\n",
    "    cv2.imwrite(\"out.jpg\",frame)\n",
    "    if cv2.waitKey(1) == ord(' '):\n",
    "        break\n",
    "obj.release()\n",
    "cv2.destroyAllWindows()"
   ]
  },
  {
   "cell_type": "code",
   "execution_count": null,
   "id": "ef34e3c2",
   "metadata": {},
   "outputs": [],
   "source": [
    "import cv2\n",
    "import numpy as np\n",
    "obj = cv2.VideoCapture(0)\n",
    "while(True):\n",
    "    cap,frame = obj.read()\n",
    "    cv2.imshow('video_image',frame)\n",
    "    if cv2.waitKey(1) == ord(' '):\n",
    "        break\n",
    "obj.release()\n",
    "cv2.destroyAllWindows()"
   ]
  },
  {
   "cell_type": "code",
   "execution_count": null,
   "id": "6b3e3f87",
   "metadata": {},
   "outputs": [],
   "source": [
    "import cv2\n",
    "import numpy as np\n",
    "obj = cv2.VideoCapture(0)\n",
    "while True:\n",
    "    cap, frame = obj.read()\n",
    "    h = int(obj.get(4))\n",
    "    w = int(obj.get(3))\n",
    "    sm_frame = cv2.resize(frame, (0,0), fx=0.5 , fy=0.5)\n",
    "    im = np.ones(frame.shape,np.uint8)*200\n",
    "    im[125:(h//2)+125,135:(w//2)+135] = sm_frame\n",
    "    cv2.imshow(\"Pic\",im)\n",
    "    if cv2.waitKey(1) == ord(' '):\n",
    "        break\n",
    "obj.release()\n",
    "cv2.destroyAllWindows()"
   ]
  },
  {
   "cell_type": "code",
   "execution_count": null,
   "id": "22374f8d",
   "metadata": {},
   "outputs": [],
   "source": [
    "import cv2\n",
    "import numpy as np\n",
    "cap  = cv2.VideoCapture(0)\n",
    "while True:\n",
    "    ret,frame = cap.read()\n",
    "    width = int(cap.get(3))\n",
    "    height = int(cap.get(4))\n",
    "    image = np.zeros(frame.shape, np.uint8)\n",
    "    small_frame = cv2.resize(frame,(0,0),fx =0.5, fy = 0.5)\n",
    "    image[:height//2, :width//2]=cv2.rotate(small_frame,cv2.ROTATE_180)\n",
    "    image[height//2:, :width//2]=small_frame\n",
    "    image[:height//2, width//2:]=small_frame\n",
    "    image[height//2:, width//2:]=cv2.rotate(small_frame,cv2.ROTATE_180)\n",
    "    cv2.imshow('myimage',image)\n",
    "    if cv2.waitKey(1) == ord(' '):\n",
    "        break\n",
    "cap.release()\n",
    "cv2.destroyAllWindows()"
   ]
  }
 ],
 "metadata": {
  "kernelspec": {
   "display_name": "Python 3 (ipykernel)",
   "language": "python",
   "name": "python3"
  },
  "language_info": {
   "codemirror_mode": {
    "name": "ipython",
    "version": 3
   },
   "file_extension": ".py",
   "mimetype": "text/x-python",
   "name": "python",
   "nbconvert_exporter": "python",
   "pygments_lexer": "ipython3",
   "version": "3.11.2"
  }
 },
 "nbformat": 4,
 "nbformat_minor": 5
}
